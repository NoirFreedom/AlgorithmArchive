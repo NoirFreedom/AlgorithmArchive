{
  "cells": [
    {
      "cell_type": "markdown",
      "metadata": {
        "colab_type": "text",
        "id": "view-in-github"
      },
      "source": [
        "<a href=\"https://colab.research.google.com/github/LaVita337/AIFFEL_Workplace/blob/main/Quest/Quest03/quest3.ipynb\" target=\"_parent\"><img src=\"https://colab.research.google.com/assets/colab-badge.svg\" alt=\"Open In Colab\"/></a>"
      ]
    },
    {
      "cell_type": "code",
      "execution_count": null,
      "metadata": {
        "id": "HmhIuZ4fs-ha"
      },
      "outputs": [],
      "source": [
        "import re                                # 정규표현식을 다루기 위한 파이썬 내장모듈 임포트\n",
        "from collections import Counter          #collections 모듈에 포함된 Counter 클래스 (이터러블한 데이터를 받아 각 요소의 개수를 카운트하고 딕셔너리로 받음)\n",
        "\n",
        "#hello\n",
        "def find_2grams(words):\n",
        "    return [(words[i], words[i+1]) for i in range(len(words)-1)]       #리스트 컴프리헨션을 사용해 2-gram을 찾는 함수를 정의\n",
        "\n",
        "\n",
        "with open('/06TheAvengers.txt', 'r') as file: # 파일을 읽기형식으로 불러옴\n",
        "    script = file.read().lower()            # 읽기형식으로 불러낸 파일을 소문자로 다 바꿈\n",
        "    words = re.findall(r'\\b\\w+\\b', script)  # 단어만 추출하여 리스트로 만듬\n",
        "    two_grams = find_2grams(words)          #find_2grams 함수에 소문자로 된 단어만 추출하여 만든 리스트 words를 넣어 2-gram을 찾고 그 리스트를 two_grams라는 변수에 할당\n",
        "\n",
        "\n",
        "counter = Counter(two_grams)                # Counter 클래스 사용한 two_grams를 counter 라는 변수에 할당(Counter 클래스는 딕셔너리 형태로 출력)\n",
        "max_2gram, max_count = counter.most_common(1)[0]   #max_2gram은 counter.most_common(1)을 할당하여 제일 많이 나온 2_gram을 할당하고, max_counter는 횟수를 할당\n",
        "\n",
        "# 결과 출력\n",
        "print(max_2gram, max_count)\n",
        "print(counter)"
      ]
    }
  ],
  "metadata": {
    "colab": {
      "authorship_tag": "ABX9TyPTym4qE3khnvz9U4pvMmpE",
      "include_colab_link": true,
      "provenance": []
    },
    "kernelspec": {
      "display_name": "Python 3",
      "name": "python3"
    },
    "language_info": {
      "name": "python"
    }
  },
  "nbformat": 4,
  "nbformat_minor": 0
}
