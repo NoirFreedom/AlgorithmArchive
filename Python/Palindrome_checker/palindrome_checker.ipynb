{
  "cells": [
    {
      "cell_type": "markdown",
      "metadata": {
        "colab_type": "text",
        "id": "view-in-github"
      },
      "source": [
        "<a href=\"https://colab.research.google.com/github/LaVita337/AIFFEL_Workplace/blob/main/Quest/Quest01/Quest01.ipynb\" target=\"_parent\"><img src=\"https://colab.research.google.com/assets/colab-badge.svg\" alt=\"Open In Colab\"/></a>"
      ]
    },
    {
      "cell_type": "code",
      "execution_count": null,
      "metadata": {
        "id": "gUMpyMapcKD6"
      },
      "outputs": [],
      "source": [
        "word =input(\"단어를 입력하세요 : \")\n",
        "reversed_word = word[::-1]\n",
        "print(reversed_word)\n",
        "\n",
        "if word == reversed_word :\n",
        "    print(\"입력값은 : \", reversed_word)\n",
        "    print( \"입니다.\")\n",
        "else :\n",
        "    print(\"회문이 아닙니다.\")"
      ]
    }
  ],
  "metadata": {
    "colab": {
      "include_colab_link": true,
      "provenance": []
    },
    "kernelspec": {
      "display_name": "Python 3",
      "name": "python3"
    },
    "language_info": {
      "name": "python"
    }
  },
  "nbformat": 4,
  "nbformat_minor": 0
}
